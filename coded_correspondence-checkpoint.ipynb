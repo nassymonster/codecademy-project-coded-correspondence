{
 "cells": [
  {
   "cell_type": "markdown",
   "metadata": {},
   "source": [
    "# Project: Coded Correspondence\n",
    "\n",
    "You and your pen pal, Vishal, have been exchanging letters for some time now. Recently, he has become interested in cryptography and the two of you have started sending encoded messages within your letters.\n",
    "\n",
    "In this project, you will use your Python skills to decipher the messages you receive and to encode your own responses! Put your programming skills to the test with these fun cryptography puzzles. Here is his most recent letter:\n",
    "\n",
    "    Hey there! How have you been? I've been great! I just learned about this really cool type of cipher called a Caesar Cipher. Here's how it works: You take your message, something like \"hello\" and then you shift all of the letters by a certain offset. \n",
    "\n",
    "    For example, if I chose an offset of 3 and a message of \"hello\", I would encode my message by shifting each letter 3 places to the left with respect to the alphabet. So \"h\" becomes \"e\", \"e\" becomes \"b\", \"l\" becomes \"i\", and \"o\" becomes \"l\". Then I have my encoded message, \"ebiil\"! Now I can send you my message and the offset and you can decode it by shifting each letter 3 places to the right. The best thing is that Julius Caesar himself used this cipher, that's why it's called the Caesar Cipher! Isn't that so cool! Okay, now I'm going to send you a longer encoded message that you have to decode yourself!\n",
    "    \n",
    "        xuo jxuhu! jxyi yi qd unqcfbu ev q squiqh syfxuh. muhu oek qrbu je tusetu yj? y xefu ie! iudt cu q cuiiqwu rqsa myjx jxu iqcu evviuj!\n",
    "    \n",
    "    This message has an offset of 10. Can you decode it?\n",
    "    \n",
    "\n",
    "#### Step 1: Decode Vishal's Message\n",
    "In the cell below, use your Python skills to decode Vishal's message and print the result."
   ]
  },
  {
   "cell_type": "code",
   "execution_count": 1,
   "metadata": {},
   "outputs": [
    {
     "name": "stdout",
     "output_type": "stream",
     "text": [
      "['a', 'b', 'c', 'd', 'e', 'f', 'g', 'h', 'i', 'j', 'k', 'l', 'm', 'n', 'o', 'p', 'q', 'r', 's', 't', 'u', 'v', 'w', 'x', 'y', 'z']\n",
      "['    xuo jxuhu! jxyi yi qd unqcfbu ev q squiqh syfxuh. muhu oek qrbu je tusetu yj? y xefu ie! iudt cu q cuiiqwu rqsa myjx jxu iqcu evviuj!']\n",
      "    hey there! this is an example of a caesar cipher. were you able to decode it? i hope so! send me a message back with the same offset!\n"
     ]
    }
   ],
   "source": [
    "vishal_message='''Hey there! How have you been? I've been great! I just learned about this really cool type of cipher called a Caesar Cipher. Here's how it works: You take your message, something like \"hello\" and then you shift all of the letters by a certain offset. \n",
    " \n",
    "For example, if I chose an offset of 3 and a message of \"hello\", I would encode my message by shifting each letter 3 places to the left with respect to the alphabet. So \"h\" becomes \"e\", \"e\" becomes \"b\", \"l\" becomes \"i\", and \"o\" becomes \"l\". Then I have my encoded message, \"ebiil\"! Now I can send you my message and the offset and you can decode it by shifting each letter 3 places to the right. The best thing is that Julius Caesar himself used this cipher, that's why it's called the Caesar Cipher! Isn't that so cool! Okay, now I'm going to send you a longer encoded message that you have to decode yourself!\n",
    " \n",
    "    xuo jxuhu! jxyi yi qd unqcfbu ev q squiqh syfxuh. muhu oek qrbu je tusetu yj? y xefu ie! iudt cu q cuiiqwu rqsa myjx jxu iqcu evviuj!\n",
    " \n",
    "This message has an offset of 10. Can you decode it?'''\n",
    "# print(vishal_message)\n",
    "\n",
    "#alphabet\n",
    "import string\n",
    "alphabet = list(string.ascii_lowercase)\n",
    "print(alphabet)\n",
    "\n",
    "vishal_message_update=vishal_message.split('\\n')\n",
    "# print(vishal_message_update)\n",
    "#\n",
    "part_for_decode=[]\n",
    "part_for_decode.append(vishal_message_update[4])\n",
    "print(part_for_decode)\n",
    "\n",
    "# part_for_decode_update=[]\n",
    "# for part in part_for_decode:\n",
    "#   part_for_decode_update+=part.split()\n",
    "# print(part_for_decode_update)\n",
    "\n",
    "# final=[]\n",
    "# for part in part_for_decode_update:\n",
    "#   final+= [list(part)]\n",
    "# print(final)\n",
    "\n",
    "final_string=''\n",
    "\n",
    "for letter in part_for_decode[0]:\n",
    "    if letter in alphabet:\n",
    "        final_string+=alphabet[alphabet.index(letter)+10-len(alphabet)]\n",
    "    else: \n",
    "        final_string+=letter\n",
    "\n",
    "    \n",
    "print(final_string)\n"
   ]
  },
  {
   "cell_type": "markdown",
   "metadata": {},
   "source": [
    "#### Step 2: Send Vishal a Coded Message\n",
    "Great job! Now send Vishal back a message using the same offset. Your message can be anything you want! Remember, encoding happens in opposite direction of decoding."
   ]
  },
  {
   "cell_type": "code",
   "execution_count": 2,
   "metadata": {},
   "outputs": [
    {
     "name": "stdout",
     "output_type": "stream",
     "text": [
      "['hello vishal!']\n",
      "xubbe lyixqb!\n"
     ]
    }
   ],
   "source": [
    "\n",
    "my_message=['hello vishal!']\n",
    "print(my_message)\n",
    "\n",
    "encoding_massage=''\n",
    "\n",
    "for letter in my_message[0]:\n",
    "    if letter in alphabet:\n",
    "        encoding_massage+=alphabet[alphabet.index(letter) - 10]\n",
    "    else:\n",
    "        encoding_massage+=letter\n",
    "\n",
    "print(encoding_massage)"
   ]
  },
  {
   "cell_type": "markdown",
   "metadata": {},
   "source": [
    "#### Step 3: Make functions for decoding and coding \n",
    "\n",
    "Vishal sent over another reply, this time with two coded messages!\n",
    "    \n",
    "    You're getting the hang of this! Okay here are two more messages, the first one is coded just like before with an offset of ten, and it contains a hint for decoding the second message!\n",
    "\n",
    "    First message:\n",
    "    \n",
    "        jxu evviuj veh jxu iusedt cuiiqwu yi vekhjuud.\n",
    "        \n",
    "    Second message:\n",
    "    \n",
    "        bqdradyuzs ygxfubxq omqemd oubtqde fa oapq kagd yqeemsqe ue qhqz yadq eqogdq!\n",
    "    \n",
    "Decode both of these messages. \n",
    "\n",
    "If you haven't already, define two functions `caesar_decode(message, offset)` and `caesar_encode(message, offset)` that can be used to quickly decode and encode messages given any offset."
   ]
  },
  {
   "cell_type": "code",
   "execution_count": 3,
   "metadata": {},
   "outputs": [
    {
     "name": "stdout",
     "output_type": "stream",
     "text": [
      "the offset for the second message is fourteen.\n"
     ]
    }
   ],
   "source": [
    "first_message='jxu evviuj veh jxu iusedt cuiiqwu yi vekhjuud.'\n",
    "\n",
    "decode_first_message=''\n",
    "\n",
    "for letter in first_message:\n",
    "    if letter in alphabet:\n",
    "        decode_first_message+=alphabet[alphabet.index(letter)+10-len(alphabet)]\n",
    "    else:\n",
    "        decode_first_message+=letter\n",
    "\n",
    "print(decode_first_message)"
   ]
  },
  {
   "cell_type": "code",
   "execution_count": 4,
   "metadata": {},
   "outputs": [
    {
     "name": "stdout",
     "output_type": "stream",
     "text": [
      "performing multiple caesar ciphers to code your messages is even more secure!\n"
     ]
    }
   ],
   "source": [
    "second_message='bqdradyuzs ygxfubxq omqemd oubtqde fa oapq kagd yqeemsqe ue qhqz yadq eqogdq!'\n",
    "\n",
    "decode_second_message=''\n",
    "\n",
    "for letter in second_message:\n",
    "    if letter in alphabet:\n",
    "        decode_second_message+=alphabet[alphabet.index(letter)+14-len(alphabet)]\n",
    "    else: \n",
    "        decode_second_message+=letter\n",
    "\n",
    "print(decode_second_message)"
   ]
  },
  {
   "cell_type": "markdown",
   "metadata": {},
   "source": [
    "#### Step 4: Solving a Caesar Cipher without knowing the shift value\n",
    "\n",
    "Awesome work! While you were working to decode his last two messages, Vishal sent over another letter! He's really been bitten by the crypto-bug. Read it and see what interesting task he has lined up for you this time.\n",
    "\n",
    "    Hello again friend! I knew you would love the Caesar Cipher, it's a cool, simple way to encrypt messages. Did you know that back in Caesar's time, it was considered a very secure way of communication and it took a lot of effort to crack if you were unaware of the value of the shift? That's all changed with computers! Now we can brute force these kinds of ciphers very quickly, as I'm sure you can imagine.\n",
    "            \n",
    "    To test your cryptography skills, this next coded message is going to be harder than the last couple to crack. It's still going to be coded with a Caesar Cipher but this time I'm not going to tell you the value of the shift. You'll have to brute force it yourself.\n",
    "            \n",
    "    Here's the coded message:\n",
    "            \n",
    "        vhfinmxkl atox kxgwxkxw tee hy maxlx hew vbiaxkl hulhexmx. px'ee atox mh kxteer lmxi ni hnk ztfx by px ptgm mh dxxi hnk fxlltzxl ltyx.\n",
    "            \n",
    "    Good luck!\n",
    "            \n",
    "Decode Vishal's most recent message and see what it says!"
   ]
  },
  {
   "cell_type": "code",
   "execution_count": 7,
   "metadata": {},
   "outputs": [
    {
     "data": {
      "text/plain": [
       "\"computers have rendered all of these old ciphers obsolete. we'll have to really step up our game if we want to keep our messages safe.\""
      ]
     },
     "execution_count": 7,
     "metadata": {},
     "output_type": "execute_result"
    }
   ],
   "source": [
    "ALPHABET_q = string.ascii_lowercase\n",
    "\n",
    "ciphertext='vhfinmxkl atox kxgwxkxw tee hy maxlx hew vbiaxkl hulhexmx. px\\'ee atox mh kxteer lmxi ni hnk ztfx by px ptgm mh dxxi hnk fxlltzxl ltyx.'\n",
    "\n",
    " \n",
    "def decrypt(ciphertext, encryption_key):\n",
    "    # \"\"\"Decrypt ciphertext.\"\"\"\n",
    "    decrypted_letters = []\n",
    "    for letter in ciphertext:\n",
    "        if letter not in ALPHABET_q:\n",
    "            decrypted_letters.append(letter)\n",
    "        elif letter in ALPHABET_q:\n",
    "            plain_letter_index = ALPHABET_q.index(letter)\n",
    "            decrypted_letter_index = plain_letter_index - encryption_key\n",
    "            if decrypted_letter_index >= 0:\n",
    "                decrypted_letters.append(ALPHABET_q[decrypted_letter_index])\n",
    "            else:\n",
    "                try:\n",
    "                    decrypted_letter_index += len(ALPHABET_q)\n",
    "                    decrypted_letters.append(ALPHABET_q[decrypted_letter_index])\n",
    "                except IndexError:\n",
    "                        while decrypted_letter_index <= (-(len(ALPHABET_q))):\n",
    "                            decrypted_letter_index = decrypted_letter_index + len(ALPHABET_q)\n",
    "                        decrypted_letters.append(ALPHABET_q[decrypted_letter_index])\n",
    "    decrypted_message = ''.join(decrypted_letters)\n",
    "    return decrypted_message\n",
    "\n",
    "\n",
    "def brute_force(ciphertext, possible_keys=len(ALPHABET_q)):\n",
    "  # Print possible plaintext for the provided ciphertext.\n",
    "    for possible_key in range(1, possible_keys):\n",
    "        possible_text = decrypt(ciphertext, possible_key)\n",
    "        print(f\"Encryption key: {possible_key} - Plain text: {possible_text}\")\n",
    "\n",
    "# brute_force(ciphertext, possible_keys=len(ALPHABET_q))\n",
    "\n",
    "# Encryption key: 19 is my key\n",
    "\n",
    "decrypt(ciphertext, encryption_key = 19)"
   ]
  },
  {
   "cell_type": "markdown",
   "metadata": {},
   "source": [
    "#### Step 5: The Vigenère Cipher\n",
    "\n",
    "Great work! While you were working on the brute force cracking of the cipher, Vishal sent over another letter. That guy is a letter machine!\n",
    "\n",
    "    Salutations! As you can see, technology has made brute forcing simple ciphers like the Caesar Cipher extremely easy, and us crypto-enthusiasts have had to get more creative and use more complicated ciphers. This next cipher I'm going to teach you is the Vigenère Cipher, invented by an Italian cryptologist named Giovan Battista Bellaso (cool name eh?) in the 16th century, but named after another cryptologist from the 16th century, Blaise de Vigenère.\n",
    "            \n",
    "    The Vigenère Cipher is a polyalphabetic substitution cipher, as opposed to the Caesar Cipher which was a monoalphabetic substitution cipher. What this means is that opposed to having a single shift that is applied to every letter, the Vigenère Cipher has a different shift for each individual letter. The value of the shift for each letter is determined by a given keyword.\n",
    "           \n",
    "    Consider the message:\n",
    "           \n",
    "        barry is the spy\n",
    "\n",
    "    If we want to code this message, first we choose a keyword. For this example, we'll use the keyword\n",
    "           \n",
    "        dog\n",
    "               \n",
    "    Now we repeat the keyword over and over to generate a keyword phrase that is the same length as the message we want to code. So if we want to code the message \"barry is the spy\" our keyword phrase is \"dogdo gd ogd ogd\". Now we are ready to start coding our message. We shift each letter of our message by the place value of the corresponding letter in the keyword phrase, assuming that \"a\" has a place value of 0, \"b\" has a place value of 1, and so forth.\n",
    "\n",
    "                  message:    b  a  r  r  y    i  s    t  h  e    s  p  y\n",
    "                \n",
    "           keyword phrase:    d  o  g  d  o    g  d    o  g  d    o  g  d\n",
    "                 \n",
    "    resulting place value:    24 12 11 14 10   2  15   5  1  1    4  9  21\n",
    "      \n",
    "    So we shift \"b\", which has an index of 1, by the index of \"d\", which is 3. This gives us an place value of 24, which is \"y\". Remember to loop back around when we reach either end of the alphabet! Then continue the trend: we shift \"a\" by the place value of \"o\", 14, and get \"m\", we shift \"r\" by the place value of \"g\", 15, and get \"l\", shift the next \"r\" by 4 places and get \"o\", and so forth. Once we complete all the shifts we end up with our coded message:\n",
    "            \n",
    "        ymlok cp fbb ejv\n",
    "                \n",
    "    As you can imagine, this is a lot harder to crack without knowing the keyword! So now comes the hard part. I'll give you a message and the keyword, and you'll see if you can figure out how to crack it! Ready? Okay here's my message:\n",
    "            \n",
    "        txm srom vkda gl lzlgzr qpdb? fepb ejac! ubr imn tapludwy mhfbz cza ruxzal wg zztcgcexxch!\n",
    "                \n",
    "    and the keyword to decode my message is \n",
    "            \n",
    "        friends\n",
    "                \n",
    "    Because that's what we are! Good luck friend!\n",
    "           \n",
    "And there it is. Vishal has given you quite the assignment this time! Try to decode his message. It may be helpful to create a function that takes two parameters &mdash; the coded message and the keyword &mdash; then work towards a solution from there."
   ]
  },
  {
   "cell_type": "code",
   "execution_count": 127,
   "metadata": {},
   "outputs": [
    {
     "name": "stdout",
     "output_type": "stream",
     "text": [
      "you were able to decode this? nice work! you are becoming quite the expert at crytography!\n"
     ]
    }
   ],
   "source": [
    "# https://www.ssec.wisc.edu/~tomw/java/unicode.html  (+ 65 velka pismenka)\n",
    "\n",
    "# create a raw string (r\"xxxx\")\n",
    "vigenered_message = r'txm srom vkda gl lzlgzr qpdb? fepb ejac! ubr imn tapludwy mhfbz cza ruxzal wg zztcgcexxch!'\n",
    "# vigenered_message = r'pe'\n",
    "\n",
    "keyword = r'friends'\n",
    "# keyword = r'love'\n",
    "\n",
    "def vigenere_decrypt(encrypted_vigener, keyword):\n",
    "    keyword_length = len(keyword)\n",
    "    # The ord() function returns the number representing the unicode code of a specified character.\n",
    "    keyword_as_int = [ord(i) for i in keyword]\n",
    "    # print(keyword_as_int)\n",
    "    encrypted_vigener_int = [ord(i) for i in encrypted_vigener]\n",
    "    # print(encrypted_vigener_int)\n",
    "    result = ''\n",
    "    \n",
    "    # approach with our own index\n",
    "    custom_index = 0\n",
    "    # approach with counting non alphabetic characters\n",
    "    space_counter = 0\n",
    "    for i in range(len(encrypted_vigener_int)):\n",
    "        if encrypted_vigener[i].isalpha():\n",
    "            # print(f'{encrypted_vigener[i]} -> {(encrypted_vigener_int[i]- 97) % 26}')\n",
    "            # print(f'{keyword[i % keyword_length]} -> {(keyword_as_int[i % keyword_length] - 97) % 26}')\n",
    "            \n",
    "            # approach with our own index\n",
    "            # value = (encrypted_vigener_int[i] + keyword_as_int[custom_index % keyword_length] - 2 * 97) % 26\n",
    "    \n",
    "            # approach with counting non alphabetic characters\n",
    "            value = (encrypted_vigener_int[i] + keyword_as_int[(i - space_counter) % keyword_length] - 2 * 97) % 26\n",
    "    \n",
    "            result += chr(value + 97)\n",
    "            custom_index += 1\n",
    "        else:\n",
    "            result += encrypted_vigener[i]\n",
    "            space_counter += 1\n",
    "    return result\n",
    "\n",
    "print(vigenere_decrypt(vigenered_message, keyword))\n",
    "\n"
   ]
  },
  {
   "cell_type": "markdown",
   "metadata": {
    "collapsed": true
   },
   "source": [
    "#### Step 6: Send a message with the  Vigenère Cipher\n",
    "Great work decoding the message. For your final task, write a function that can encode a message using a given keyword and write out a message to send to Vishal!\n",
    "\n",
    "*As a bonus, try calling your decoder function on the result of your encryption function. You should get the original message back!*"
   ]
  },
  {
   "cell_type": "code",
   "execution_count": 131,
   "metadata": {},
   "outputs": [
    {
     "name": "stdout",
     "output_type": "stream",
     "text": [
      "pe f xdzzo, idd ypxqecs dkjd iaraiag rzjrfnkc as pwq wahgqp dr dkjd jjrddliutj ugsyiutj. naz owazhs sjp itj kgulecmq itexwvq gwrw!\n",
      "as a bonus, try calling your decoder function on the result of your encryption function. you should get the original message back!\n"
     ]
    }
   ],
   "source": [
    "vigenered_text = r'as a bonus, try calling your decoder function on the result of your encryption function. you should get the original message back!'\n",
    "\n",
    "# vigenered_text = r'as'\n",
    "\n",
    "keyword_two = 'love'\n",
    "\n",
    "def vigenere_encode(decode_vigener, keyword):\n",
    "    keyword_length = len(keyword)\n",
    "    # The ord() function returns the number representing the unicode code of a specified character.\n",
    "    keyword_as_int = [ord(i) for i in keyword]\n",
    "    decode_vigener_int = [ord(i) for i in decode_vigener]\n",
    "    result = ''\n",
    "    custom_index = 0\n",
    "    for i in range(len(decode_vigener_int)):\n",
    "        if decode_vigener[i].isalpha():\n",
    "            \n",
    "#             print(decode_vigener[i])\n",
    "#             print(f'((decode_vigener_int[{i}]) - keyword_as_int[{i} % {keyword_length}]) + 26')\n",
    "#             print(f'(({decode_vigener_int[i]}) - {keyword_as_int[i % keyword_length]}) + 26')\n",
    "            \n",
    "            value = (((decode_vigener_int[i] - keyword_as_int[custom_index % keyword_length]))) % 26\n",
    "    # https://www.ssec.wisc.edu/~tomw/java/unicode.html  (+ 65 velka pismenka)\n",
    "            result += chr(value + 97)\n",
    "            custom_index += 1\n",
    "        else:\n",
    "            result += decode_vigener[i]\n",
    "    return result\n",
    "\n",
    "print(vigenere_encode(vigenered_text, keyword_two))\n",
    "\n",
    "encode_massage = vigenere_encode(vigenered_text, keyword_two)\n",
    "\n",
    "print(vigenere_decrypt(encode_massage, keyword_two))"
   ]
  },
  {
   "cell_type": "markdown",
   "metadata": {},
   "source": [
    "#### Conclusion\n",
    "Over the course of this project you've learned about two different cipher methods and have used your Python skills to code and decode messages. There are all types of other facinating ciphers out there to explore, and Python is the perfect language to implement them with, so go exploring! "
   ]
  }
 ],
 "metadata": {
  "kernelspec": {
   "display_name": "Python 3 (ipykernel)",
   "language": "python",
   "name": "python3"
  },
  "language_info": {
   "codemirror_mode": {
    "name": "ipython",
    "version": 3
   },
   "file_extension": ".py",
   "mimetype": "text/x-python",
   "name": "python",
   "nbconvert_exporter": "python",
   "pygments_lexer": "ipython3",
   "version": "3.9.13"
  }
 },
 "nbformat": 4,
 "nbformat_minor": 2
}
